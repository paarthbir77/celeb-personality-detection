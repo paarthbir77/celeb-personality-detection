{
 "nbformat": 4,
 "nbformat_minor": 0,
 "metadata": {
  "kernelspec": {
   "name": "pycharm-bd2a4196",
   "language": "python",
   "display_name": "PyCharm (datascience)"
  },
  "colab": {
   "name": "nlpprac.ipynb",
   "provenance": []
  },
  "accelerator": "GPU"
 },
 "cells": [
  {
   "cell_type": "code",
   "metadata": {
    "collapsed": true,
    "id": "iRNjIZ3AUQjU",
    "colab_type": "code",
    "colab": {
     "base_uri": "https://localhost:8080/",
     "height": 34
    },
    "outputId": "1a69bb87-cb25-42b5-cc2f-aca9a965c8b8",
    "executionInfo": {
     "status": "ok",
     "timestamp": 1588052988985,
     "user_tz": -330,
     "elapsed": 7113,
     "user": {
      "displayName": "PAARTH BIR",
      "photoUrl": "",
      "userId": "15859546046256874199"
     }
    }
   },
   "source": [
    "import pandas as pd\n",
    "import numpy as np\n",
    "import tensorflow.compat.v1 as tf\n",
    "tf.disable_v2_behavior()\n",
    "import keras"
   ],
   "execution_count": 1,
   "outputs": [
    {
     "name": "stderr",
     "output_type": "stream",
     "text": [
      "WARNING: Logging before flag parsing goes to stderr.\n",
      "W0429 00:09:25.108222 139655346157376 deprecation.py:323] From /home/paarth/PycharmProjects/untitled/venv/test2/lib/python3.6/site-packages/tensorflow_core/python/compat/v2_compat.py:88: disable_resource_variables (from tensorflow.python.ops.variable_scope) is deprecated and will be removed in a future version.\n",
      "Instructions for updating:\n",
      "non-resource variables are not supported in the long term\n",
      "Using TensorFlow backend.\n"
     ]
    }
   ]
  },
  {
   "cell_type": "code",
   "metadata": {
    "id": "OQtGuhoLz0A-",
    "colab_type": "code",
    "colab": {}
   },
   "source": [
    "model = tf.keras.models.load_model(\"model_bipolar_4.h5\")\n",
    "model.summary()\n"
   ],
   "execution_count": 2,
   "outputs": [
    {
     "name": "stderr",
     "output_type": "stream",
     "text": [
      "W0429 00:09:32.630992 139655346157376 deprecation.py:506] From /home/paarth/PycharmProjects/untitled/venv/test2/lib/python3.6/site-packages/tensorflow_core/python/keras/initializers.py:119: calling RandomUniform.__init__ (from tensorflow.python.ops.init_ops) with dtype is deprecated and will be removed in a future version.\n",
      "Instructions for updating:\n",
      "Call initializer instance with the dtype argument instead of passing it to the constructor\n",
      "W0429 00:09:32.734596 139655346157376 deprecation.py:506] From /home/paarth/PycharmProjects/untitled/venv/test2/lib/python3.6/site-packages/tensorflow_core/python/ops/resource_variable_ops.py:1635: calling BaseResourceVariable.__init__ (from tensorflow.python.ops.resource_variable_ops) with constraint is deprecated and will be removed in a future version.\n",
      "Instructions for updating:\n",
      "If using Keras pass *_constraint arguments to layers.\n",
      "W0429 00:09:32.812534 139655346157376 deprecation.py:506] From /home/paarth/PycharmProjects/untitled/venv/test2/lib/python3.6/site-packages/tensorflow_core/python/ops/init_ops.py:97: calling GlorotUniform.__init__ (from tensorflow.python.ops.init_ops) with dtype is deprecated and will be removed in a future version.\n",
      "Instructions for updating:\n",
      "Call initializer instance with the dtype argument instead of passing it to the constructor\n",
      "W0429 00:09:32.813776 139655346157376 deprecation.py:506] From /home/paarth/PycharmProjects/untitled/venv/test2/lib/python3.6/site-packages/tensorflow_core/python/ops/init_ops.py:97: calling Orthogonal.__init__ (from tensorflow.python.ops.init_ops) with dtype is deprecated and will be removed in a future version.\n",
      "Instructions for updating:\n",
      "Call initializer instance with the dtype argument instead of passing it to the constructor\n",
      "W0429 00:09:32.815896 139655346157376 deprecation.py:506] From /home/paarth/PycharmProjects/untitled/venv/test2/lib/python3.6/site-packages/tensorflow_core/python/ops/init_ops.py:97: calling Zeros.__init__ (from tensorflow.python.ops.init_ops) with dtype is deprecated and will be removed in a future version.\n",
      "Instructions for updating:\n",
      "Call initializer instance with the dtype argument instead of passing it to the constructor\n"
     ]
    },
    {
     "name": "stdout",
     "output_type": "stream",
     "text": [
      "Model: \"sequential_7\"\n",
      "_________________________________________________________________\n",
      "Layer (type)                 Output Shape              Param #   \n",
      "=================================================================\n",
      "embedding_7 (Embedding)      (None, 15000, 16)         160000    \n",
      "_________________________________________________________________\n",
      "dropout_5 (Dropout)          (None, 15000, 16)         0         \n",
      "_________________________________________________________________\n",
      "conv1d_5 (Conv1D)            (None, 14996, 128)        10368     \n",
      "_________________________________________________________________\n",
      "max_pooling1d_5 (MaxPooling1 (None, 3749, 128)         0         \n",
      "_________________________________________________________________\n",
      "bidirectional_2 (Bidirection (None, 128)               74496     \n",
      "_________________________________________________________________\n",
      "dense_14 (Dense)             (None, 64)                8256      \n",
      "_________________________________________________________________\n",
      "dense_15 (Dense)             (None, 16)                1040      \n",
      "=================================================================\n",
      "Total params: 254,160\n",
      "Trainable params: 254,160\n",
      "Non-trainable params: 0\n",
      "_________________________________________________________________\n"
     ]
    }
   ]
  },
  {
   "cell_type": "code",
   "execution_count": 3,
   "outputs": [],
   "source": [
    "celeb = [\"Kartik\",\"Salman\",\"Aamir\",\"Saif\",\"Hrithik\",\"Akshay\",\"Ajay\",\"Deepika\",\"Aishwarya\",\"Priyanka\"]\n",
    "labels = ['infp', 'istp', 'intj', 'intp', 'estj', 'entp', 'isfj', 'istj', 'isfp', 'infj', 'enfp', 'entj', 'enfj', 'esfj', 'esfp', 'estp']\n",
    "textpath = \"celebrities/\""
   ],
   "metadata": {
    "collapsed": false,
    "pycharm": {
     "name": "#%%\n"
    }
   }
  },
  {
   "cell_type": "code",
   "execution_count": 4,
   "outputs": [
    {
     "data": {
      "text/plain": "   label                                               text\n0      0  [oops ignore, delete]...Noordenwind Yes, I am ...",
      "text/html": "<div>\n<style scoped>\n    .dataframe tbody tr th:only-of-type {\n        vertical-align: middle;\n    }\n\n    .dataframe tbody tr th {\n        vertical-align: top;\n    }\n\n    .dataframe thead th {\n        text-align: right;\n    }\n</style>\n<table border=\"1\" class=\"dataframe\">\n  <thead>\n    <tr style=\"text-align: right;\">\n      <th></th>\n      <th>label</th>\n      <th>text</th>\n    </tr>\n  </thead>\n  <tbody>\n    <tr>\n      <th>0</th>\n      <td>0</td>\n      <td>[oops ignore, delete]...Noordenwind Yes, I am ...</td>\n    </tr>\n  </tbody>\n</table>\n</div>"
     },
     "execution_count": 4,
     "metadata": {},
     "output_type": "execute_result"
    }
   ],
   "source": [
    "trainpath = \"dataset/train/processed_train.csv\"\n",
    "df_train = pd.read_csv(trainpath)\n",
    "df_train = df_train[[\"label\",\"text\"]]\n",
    "df_train.head(1)\n"
   ],
   "metadata": {
    "collapsed": false,
    "pycharm": {
     "name": "#%%\n"
    }
   }
  },
  {
   "cell_type": "code",
   "execution_count": 5,
   "outputs": [
    {
     "name": "stdout",
     "output_type": "stream",
     "text": [
      "16140\n",
      "24412\n"
     ]
    }
   ],
   "source": [
    "x_train = []\n",
    "max_len = 0\n",
    "for i in range(df_train.shape[0]):\n",
    "    x_train.append(str(df_train[\"text\"][i]))\n",
    "    if len(df_train[\"text\"][i]) > max_len:\n",
    "        max_len = len(df_train[\"text\"][i])\n",
    "print(len(x_train))\n",
    "print(max_len)"
   ],
   "metadata": {
    "collapsed": false,
    "pycharm": {
     "name": "#%%\n"
    }
   }
  },
  {
   "cell_type": "code",
   "execution_count": 6,
   "outputs": [],
   "source": [
    "vocab_size = 10000\n",
    "embedding_dim = 16\n",
    "max_length = 15000\n",
    "trunc_type='post'\n",
    "oov_tok = \"<OOV>\"\n",
    "\n",
    "from tensorflow.keras.preprocessing.text import Tokenizer\n",
    "from tensorflow.keras.preprocessing.sequence import pad_sequences\n",
    "\n",
    "tokenizer = Tokenizer(num_words = vocab_size, oov_token=oov_tok)\n",
    "tokenizer.fit_on_texts(x_train)\n",
    "word_index = tokenizer.word_index\n",
    "sequences = tokenizer.texts_to_sequences(x_train)\n",
    "padded = pad_sequences(sequences,maxlen=max_length, truncating=trunc_type)"
   ],
   "metadata": {
    "collapsed": false,
    "pycharm": {
     "name": "#%%\n"
    }
   }
  },
  {
   "cell_type": "code",
   "execution_count": 7,
   "outputs": [
    {
     "name": "stdout",
     "output_type": "stream",
     "text": [
      "10\n"
     ]
    }
   ],
   "source": [
    "celebtext = []\n",
    "for person in celeb:\n",
    "    text=\"\"\n",
    "    with open(textpath+str(person)+\".txt\") as text_file:\n",
    "        text+=text_file.read()\n",
    "    text_file.close()\n",
    "    celebtext.append(text)\n",
    "print(len(celebtext))"
   ],
   "metadata": {
    "collapsed": false,
    "pycharm": {
     "name": "#%%\n"
    }
   }
  },
  {
   "cell_type": "code",
   "execution_count": 8,
   "outputs": [],
   "source": [
    "testing_sequences = tokenizer.texts_to_sequences(celebtext)\n",
    "testing_padded = pad_sequences(testing_sequences,maxlen=max_length)"
   ],
   "metadata": {
    "collapsed": false,
    "pycharm": {
     "name": "#%%\n"
    }
   }
  },
  {
   "cell_type": "code",
   "execution_count": 9,
   "outputs": [
    {
     "name": "stdout",
     "output_type": "stream",
     "text": [
      "Kartik is  istp\n",
      "Salman is  infj\n",
      "Aamir is  infp\n",
      "Saif is  infp\n",
      "Hrithik is  isfj\n",
      "Akshay is  infp\n",
      "Ajay is  infp\n",
      "Deepika is  infp\n",
      "Aishwarya is  infp\n",
      "Priyanka is  infp\n"
     ]
    }
   ],
   "source": [
    "pred = model.predict_classes(testing_padded)\n",
    "for i in range(len(celeb)):\n",
    "    print(celeb[i], \"is \", str(labels[pred[i]]))\n"
   ],
   "metadata": {
    "collapsed": false,
    "pycharm": {
     "name": "#%%\n"
    }
   }
  },
  {
   "cell_type": "code",
   "execution_count": null,
   "outputs": [],
   "source": [
    "\n"
   ],
   "metadata": {
    "collapsed": false,
    "pycharm": {
     "name": "#%%\n"
    }
   }
  }
 ]
}